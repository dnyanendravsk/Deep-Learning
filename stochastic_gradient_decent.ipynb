{
 "cells": [
  {
   "cell_type": "code",
   "execution_count": 1,
   "id": "166c9aa4",
   "metadata": {},
   "outputs": [],
   "source": [
    "import pandas as pd\n",
    "from warnings import filterwarnings\n",
    "filterwarnings(\"ignore\")"
   ]
  },
  {
   "cell_type": "code",
   "execution_count": 2,
   "id": "9a44c086",
   "metadata": {},
   "outputs": [],
   "source": [
    "A = pd.read_csv(\"C:/users/Pawan/Downloads/training_set.csv\")"
   ]
  },
  {
   "cell_type": "code",
   "execution_count": 3,
   "id": "e9220f2f",
   "metadata": {},
   "outputs": [
    {
     "data": {
      "text/html": [
       "<div>\n",
       "<style scoped>\n",
       "    .dataframe tbody tr th:only-of-type {\n",
       "        vertical-align: middle;\n",
       "    }\n",
       "\n",
       "    .dataframe tbody tr th {\n",
       "        vertical-align: top;\n",
       "    }\n",
       "\n",
       "    .dataframe thead th {\n",
       "        text-align: right;\n",
       "    }\n",
       "</style>\n",
       "<table border=\"1\" class=\"dataframe\">\n",
       "  <thead>\n",
       "    <tr style=\"text-align: right;\">\n",
       "      <th></th>\n",
       "      <th>Loan_ID</th>\n",
       "      <th>Gender</th>\n",
       "      <th>Married</th>\n",
       "      <th>Dependents</th>\n",
       "      <th>Education</th>\n",
       "      <th>Self_Employed</th>\n",
       "      <th>ApplicantIncome</th>\n",
       "      <th>CoapplicantIncome</th>\n",
       "      <th>LoanAmount</th>\n",
       "      <th>Loan_Amount_Term</th>\n",
       "      <th>Credit_History</th>\n",
       "      <th>Property_Area</th>\n",
       "      <th>Loan_Status</th>\n",
       "    </tr>\n",
       "  </thead>\n",
       "  <tbody>\n",
       "    <tr>\n",
       "      <th>0</th>\n",
       "      <td>LP001002</td>\n",
       "      <td>Male</td>\n",
       "      <td>No</td>\n",
       "      <td>0</td>\n",
       "      <td>Graduate</td>\n",
       "      <td>No</td>\n",
       "      <td>5849.0</td>\n",
       "      <td>0.0</td>\n",
       "      <td>NaN</td>\n",
       "      <td>360.0</td>\n",
       "      <td>1.0</td>\n",
       "      <td>Urban</td>\n",
       "      <td>Y</td>\n",
       "    </tr>\n",
       "    <tr>\n",
       "      <th>1</th>\n",
       "      <td>LP001003</td>\n",
       "      <td>Male</td>\n",
       "      <td>Yes</td>\n",
       "      <td>1</td>\n",
       "      <td>Graduate</td>\n",
       "      <td>No</td>\n",
       "      <td>NaN</td>\n",
       "      <td>1508.0</td>\n",
       "      <td>128.0</td>\n",
       "      <td>360.0</td>\n",
       "      <td>1.0</td>\n",
       "      <td>Rural</td>\n",
       "      <td>N</td>\n",
       "    </tr>\n",
       "    <tr>\n",
       "      <th>2</th>\n",
       "      <td>LP001005</td>\n",
       "      <td>Male</td>\n",
       "      <td>Yes</td>\n",
       "      <td>0</td>\n",
       "      <td>Graduate</td>\n",
       "      <td>Yes</td>\n",
       "      <td>3000.0</td>\n",
       "      <td>0.0</td>\n",
       "      <td>66.0</td>\n",
       "      <td>360.0</td>\n",
       "      <td>1.0</td>\n",
       "      <td>Urban</td>\n",
       "      <td>Y</td>\n",
       "    </tr>\n",
       "    <tr>\n",
       "      <th>3</th>\n",
       "      <td>LP001006</td>\n",
       "      <td>Male</td>\n",
       "      <td>Yes</td>\n",
       "      <td>0</td>\n",
       "      <td>Not Graduate</td>\n",
       "      <td>No</td>\n",
       "      <td>2583.0</td>\n",
       "      <td>2358.0</td>\n",
       "      <td>120.0</td>\n",
       "      <td>360.0</td>\n",
       "      <td>1.0</td>\n",
       "      <td>Urban</td>\n",
       "      <td>Y</td>\n",
       "    </tr>\n",
       "    <tr>\n",
       "      <th>4</th>\n",
       "      <td>LP001008</td>\n",
       "      <td>Male</td>\n",
       "      <td>No</td>\n",
       "      <td>0</td>\n",
       "      <td>Graduate</td>\n",
       "      <td>No</td>\n",
       "      <td>6000.0</td>\n",
       "      <td>0.0</td>\n",
       "      <td>141.0</td>\n",
       "      <td>360.0</td>\n",
       "      <td>1.0</td>\n",
       "      <td>Urban</td>\n",
       "      <td>Y</td>\n",
       "    </tr>\n",
       "  </tbody>\n",
       "</table>\n",
       "</div>"
      ],
      "text/plain": [
       "    Loan_ID Gender Married Dependents     Education Self_Employed  \\\n",
       "0  LP001002   Male      No          0      Graduate            No   \n",
       "1  LP001003   Male     Yes          1      Graduate            No   \n",
       "2  LP001005   Male     Yes          0      Graduate           Yes   \n",
       "3  LP001006   Male     Yes          0  Not Graduate            No   \n",
       "4  LP001008   Male      No          0      Graduate            No   \n",
       "\n",
       "   ApplicantIncome  CoapplicantIncome  LoanAmount  Loan_Amount_Term  \\\n",
       "0           5849.0                0.0         NaN             360.0   \n",
       "1              NaN             1508.0       128.0             360.0   \n",
       "2           3000.0                0.0        66.0             360.0   \n",
       "3           2583.0             2358.0       120.0             360.0   \n",
       "4           6000.0                0.0       141.0             360.0   \n",
       "\n",
       "   Credit_History Property_Area Loan_Status  \n",
       "0             1.0         Urban           Y  \n",
       "1             1.0         Rural           N  \n",
       "2             1.0         Urban           Y  \n",
       "3             1.0         Urban           Y  \n",
       "4             1.0         Urban           Y  "
      ]
     },
     "execution_count": 3,
     "metadata": {},
     "output_type": "execute_result"
    }
   ],
   "source": [
    "A.head()"
   ]
  },
  {
   "cell_type": "code",
   "execution_count": 4,
   "id": "b7c574d1",
   "metadata": {},
   "outputs": [],
   "source": [
    "B = A.drop(labels=[\"Loan_ID\"],axis=1)"
   ]
  },
  {
   "cell_type": "code",
   "execution_count": 5,
   "id": "dcf8dde0",
   "metadata": {},
   "outputs": [],
   "source": [
    "from PM8_weekend import replacer\n",
    "replacer(B)"
   ]
  },
  {
   "cell_type": "code",
   "execution_count": 6,
   "id": "76d3ce1c",
   "metadata": {},
   "outputs": [],
   "source": [
    "Y = B[[\"Loan_Status\"]]\n",
    "X = B.drop(labels=[\"Loan_Status\"],axis=1)"
   ]
  },
  {
   "cell_type": "code",
   "execution_count": 7,
   "id": "707178fc",
   "metadata": {},
   "outputs": [],
   "source": [
    "from PM8_weekend import preprocessing\n",
    "Xnew = preprocessing(X)"
   ]
  },
  {
   "cell_type": "code",
   "execution_count": 8,
   "id": "bc511c5b",
   "metadata": {},
   "outputs": [],
   "source": [
    "from sklearn.preprocessing import LabelEncoder\n",
    "le = LabelEncoder()\n",
    "Y.Loan_Status = le.fit_transform(Y)"
   ]
  },
  {
   "cell_type": "code",
   "execution_count": 9,
   "id": "a91e792f",
   "metadata": {},
   "outputs": [],
   "source": [
    "from sklearn.model_selection import train_test_split\n",
    "xtrain,xtest,ytrain,ytest=train_test_split(Xnew,Y,test_size=0.2,random_state=21)"
   ]
  },
  {
   "cell_type": "code",
   "execution_count": 10,
   "id": "7bebdd10",
   "metadata": {},
   "outputs": [],
   "source": [
    "from keras.models import Sequential\n",
    "from keras.layers import Dense,Dropout\n",
    "from keras.callbacks import EarlyStopping"
   ]
  },
  {
   "cell_type": "code",
   "execution_count": 11,
   "id": "3ffd3ad7",
   "metadata": {},
   "outputs": [],
   "source": [
    "nn = Sequential()\n",
    "nn.add(Dense(200,input_dim=(Xnew.shape[1])))\n",
    "nn.add(Dense(200))\n",
    "nn.add(Dropout(0.2))\n",
    "nn.add(Dense(200))\n",
    "nn.add(Dropout(0.2))\n",
    "nn.add(Dense(200))\n",
    "nn.add(Dropout(0.2))\n",
    "nn.add(Dense(1,activation=\"sigmoid\"))"
   ]
  },
  {
   "cell_type": "code",
   "execution_count": 12,
   "id": "3f938bf6",
   "metadata": {},
   "outputs": [
    {
     "name": "stdout",
     "output_type": "stream",
     "text": [
      "Epoch 1/100\n",
      "98/98 [==============================] - 11s 12ms/step - loss: 0.6287 - accuracy: 0.7551 - val_loss: 0.5701 - val_accuracy: 0.8081\n",
      "Epoch 2/100\n",
      "98/98 [==============================] - 0s 3ms/step - loss: 0.5799 - accuracy: 0.7806 - val_loss: 0.6000 - val_accuracy: 0.6970\n",
      "Epoch 3/100\n",
      "98/98 [==============================] - 0s 3ms/step - loss: 0.5736 - accuracy: 0.7755 - val_loss: 0.6324 - val_accuracy: 0.8081\n",
      "Epoch 4/100\n",
      "98/98 [==============================] - 0s 3ms/step - loss: 0.5551 - accuracy: 0.7526 - val_loss: 0.6303 - val_accuracy: 0.8182\n",
      "Epoch 5/100\n",
      "98/98 [==============================] - 1s 5ms/step - loss: 0.5374 - accuracy: 0.7730 - val_loss: 0.4849 - val_accuracy: 0.7980\n",
      "Epoch 6/100\n",
      "98/98 [==============================] - 0s 3ms/step - loss: 0.5328 - accuracy: 0.7908 - val_loss: 0.6149 - val_accuracy: 0.7677\n",
      "Epoch 7/100\n",
      "98/98 [==============================] - 0s 3ms/step - loss: 0.5081 - accuracy: 0.7781 - val_loss: 0.5117 - val_accuracy: 0.8081\n",
      "Epoch 8/100\n",
      "98/98 [==============================] - 0s 3ms/step - loss: 0.5368 - accuracy: 0.7730 - val_loss: 0.6181 - val_accuracy: 0.8182\n",
      "Epoch 9/100\n",
      "98/98 [==============================] - 0s 3ms/step - loss: 0.5588 - accuracy: 0.7806 - val_loss: 0.6469 - val_accuracy: 0.7980\n",
      "Epoch 10/100\n",
      "98/98 [==============================] - 0s 3ms/step - loss: 0.5391 - accuracy: 0.7704 - val_loss: 0.5116 - val_accuracy: 0.7879\n",
      "Epoch 11/100\n",
      "98/98 [==============================] - 0s 3ms/step - loss: 0.5200 - accuracy: 0.7730 - val_loss: 0.5192 - val_accuracy: 0.7879\n",
      "Epoch 12/100\n",
      "98/98 [==============================] - 0s 3ms/step - loss: 0.5201 - accuracy: 0.7985 - val_loss: 0.5986 - val_accuracy: 0.8182\n",
      "Epoch 13/100\n",
      "98/98 [==============================] - 1s 6ms/step - loss: 0.5191 - accuracy: 0.7883 - val_loss: 0.5514 - val_accuracy: 0.7778\n",
      "Epoch 14/100\n",
      "98/98 [==============================] - 0s 3ms/step - loss: 0.5246 - accuracy: 0.7730 - val_loss: 0.5571 - val_accuracy: 0.7879\n",
      "Epoch 15/100\n",
      "98/98 [==============================] - 0s 3ms/step - loss: 0.5169 - accuracy: 0.7959 - val_loss: 0.5553 - val_accuracy: 0.8182\n",
      "Epoch 16/100\n",
      "98/98 [==============================] - 0s 3ms/step - loss: 0.5091 - accuracy: 0.7985 - val_loss: 0.5639 - val_accuracy: 0.8081\n",
      "Epoch 17/100\n",
      "98/98 [==============================] - 0s 3ms/step - loss: 0.5080 - accuracy: 0.7985 - val_loss: 0.5301 - val_accuracy: 0.8182\n",
      "Epoch 18/100\n",
      "98/98 [==============================] - 0s 3ms/step - loss: 0.5123 - accuracy: 0.8036 - val_loss: 0.4943 - val_accuracy: 0.7980\n",
      "Epoch 19/100\n",
      "98/98 [==============================] - 0s 3ms/step - loss: 0.4923 - accuracy: 0.7959 - val_loss: 0.6709 - val_accuracy: 0.7980\n",
      "Epoch 20/100\n",
      "98/98 [==============================] - 0s 3ms/step - loss: 0.5209 - accuracy: 0.7959 - val_loss: 0.5297 - val_accuracy: 0.8081\n",
      "Epoch 21/100\n",
      "98/98 [==============================] - 0s 3ms/step - loss: 0.4937 - accuracy: 0.8010 - val_loss: 0.5259 - val_accuracy: 0.8081\n",
      "Epoch 22/100\n",
      "98/98 [==============================] - 0s 5ms/step - loss: 0.5021 - accuracy: 0.8061 - val_loss: 0.5093 - val_accuracy: 0.7980\n",
      "Epoch 23/100\n",
      "98/98 [==============================] - 1s 5ms/step - loss: 0.4843 - accuracy: 0.7883 - val_loss: 0.5200 - val_accuracy: 0.8081\n",
      "Epoch 24/100\n",
      "98/98 [==============================] - 0s 4ms/step - loss: 0.5115 - accuracy: 0.8087 - val_loss: 0.5040 - val_accuracy: 0.8182\n",
      "Epoch 25/100\n",
      "98/98 [==============================] - 0s 3ms/step - loss: 0.4990 - accuracy: 0.8112 - val_loss: 0.5031 - val_accuracy: 0.8182\n",
      "Epoch 26/100\n",
      "98/98 [==============================] - 0s 3ms/step - loss: 0.4909 - accuracy: 0.7883 - val_loss: 0.5002 - val_accuracy: 0.8081\n",
      "Epoch 27/100\n",
      "98/98 [==============================] - 0s 4ms/step - loss: 0.4923 - accuracy: 0.8061 - val_loss: 0.5012 - val_accuracy: 0.7879\n",
      "Epoch 28/100\n",
      "98/98 [==============================] - 0s 3ms/step - loss: 0.4853 - accuracy: 0.7985 - val_loss: 0.5260 - val_accuracy: 0.8081\n",
      "Epoch 29/100\n",
      "98/98 [==============================] - 0s 3ms/step - loss: 0.4917 - accuracy: 0.8112 - val_loss: 0.4797 - val_accuracy: 0.8182\n",
      "Epoch 30/100\n",
      "98/98 [==============================] - 0s 3ms/step - loss: 0.5058 - accuracy: 0.7934 - val_loss: 0.5243 - val_accuracy: 0.8081\n",
      "Epoch 31/100\n",
      "98/98 [==============================] - 0s 5ms/step - loss: 0.4884 - accuracy: 0.8036 - val_loss: 0.5115 - val_accuracy: 0.8081\n",
      "Epoch 32/100\n",
      "98/98 [==============================] - 0s 4ms/step - loss: 0.5014 - accuracy: 0.7985 - val_loss: 0.5306 - val_accuracy: 0.8081\n",
      "Epoch 33/100\n",
      "98/98 [==============================] - 0s 4ms/step - loss: 0.4936 - accuracy: 0.8061 - val_loss: 0.5295 - val_accuracy: 0.7879\n",
      "Epoch 34/100\n",
      "98/98 [==============================] - 0s 3ms/step - loss: 0.4913 - accuracy: 0.8061 - val_loss: 0.5251 - val_accuracy: 0.7980\n",
      "Epoch 35/100\n",
      "98/98 [==============================] - 0s 4ms/step - loss: 0.4924 - accuracy: 0.8061 - val_loss: 0.5235 - val_accuracy: 0.8081\n",
      "Epoch 36/100\n",
      "98/98 [==============================] - 0s 3ms/step - loss: 0.4839 - accuracy: 0.8087 - val_loss: 0.5744 - val_accuracy: 0.8081\n",
      "Epoch 37/100\n",
      "98/98 [==============================] - 0s 3ms/step - loss: 0.4950 - accuracy: 0.8036 - val_loss: 0.5168 - val_accuracy: 0.7980\n",
      "Epoch 38/100\n",
      "98/98 [==============================] - 0s 3ms/step - loss: 0.4905 - accuracy: 0.8036 - val_loss: 0.5145 - val_accuracy: 0.7980\n",
      "Epoch 39/100\n",
      "98/98 [==============================] - 0s 5ms/step - loss: 0.4793 - accuracy: 0.8087 - val_loss: 0.5619 - val_accuracy: 0.8081\n",
      "Epoch 40/100\n",
      "98/98 [==============================] - 0s 4ms/step - loss: 0.4929 - accuracy: 0.8010 - val_loss: 0.5269 - val_accuracy: 0.7980\n",
      "Epoch 41/100\n",
      "98/98 [==============================] - 0s 3ms/step - loss: 0.4825 - accuracy: 0.8112 - val_loss: 0.5195 - val_accuracy: 0.7980\n",
      "Epoch 42/100\n",
      "98/98 [==============================] - 0s 3ms/step - loss: 0.4892 - accuracy: 0.7985 - val_loss: 0.5271 - val_accuracy: 0.8081\n",
      "Epoch 43/100\n",
      "98/98 [==============================] - 0s 3ms/step - loss: 0.4930 - accuracy: 0.8061 - val_loss: 0.5005 - val_accuracy: 0.8182\n",
      "Epoch 44/100\n",
      "98/98 [==============================] - 0s 3ms/step - loss: 0.4820 - accuracy: 0.8112 - val_loss: 0.5038 - val_accuracy: 0.7980\n",
      "Epoch 45/100\n",
      "98/98 [==============================] - 0s 3ms/step - loss: 0.5031 - accuracy: 0.8061 - val_loss: 0.5047 - val_accuracy: 0.8081\n",
      "Epoch 46/100\n",
      "98/98 [==============================] - 0s 3ms/step - loss: 0.4860 - accuracy: 0.7959 - val_loss: 0.5098 - val_accuracy: 0.7980\n",
      "Epoch 47/100\n",
      "98/98 [==============================] - 0s 3ms/step - loss: 0.4965 - accuracy: 0.8010 - val_loss: 0.5242 - val_accuracy: 0.8081\n",
      "Epoch 48/100\n",
      "98/98 [==============================] - 0s 3ms/step - loss: 0.4858 - accuracy: 0.8112 - val_loss: 0.4919 - val_accuracy: 0.8081\n",
      "Epoch 49/100\n",
      "98/98 [==============================] - 0s 5ms/step - loss: 0.4891 - accuracy: 0.8112 - val_loss: 0.5140 - val_accuracy: 0.8081\n",
      "Epoch 50/100\n",
      "98/98 [==============================] - 0s 3ms/step - loss: 0.4861 - accuracy: 0.8112 - val_loss: 0.4929 - val_accuracy: 0.8081\n",
      "Epoch 51/100\n",
      "98/98 [==============================] - 0s 3ms/step - loss: 0.4888 - accuracy: 0.8036 - val_loss: 0.5095 - val_accuracy: 0.7980\n",
      "Epoch 52/100\n",
      "98/98 [==============================] - 0s 3ms/step - loss: 0.4862 - accuracy: 0.8061 - val_loss: 0.4981 - val_accuracy: 0.8182\n",
      "Epoch 53/100\n",
      "98/98 [==============================] - 0s 3ms/step - loss: 0.4895 - accuracy: 0.8061 - val_loss: 0.4964 - val_accuracy: 0.8081\n",
      "Epoch 54/100\n",
      "98/98 [==============================] - 0s 3ms/step - loss: 0.4901 - accuracy: 0.7985 - val_loss: 0.5079 - val_accuracy: 0.8182\n",
      "Epoch 55/100\n",
      "98/98 [==============================] - 0s 3ms/step - loss: 0.4832 - accuracy: 0.8112 - val_loss: 0.5323 - val_accuracy: 0.8081\n",
      "Epoch 56/100\n",
      "98/98 [==============================] - 0s 3ms/step - loss: 0.4856 - accuracy: 0.8010 - val_loss: 0.4956 - val_accuracy: 0.8081\n",
      "Epoch 57/100\n",
      "98/98 [==============================] - 0s 3ms/step - loss: 0.4850 - accuracy: 0.8061 - val_loss: 0.5601 - val_accuracy: 0.7980\n",
      "Epoch 58/100\n",
      "98/98 [==============================] - 0s 4ms/step - loss: 0.4765 - accuracy: 0.7985 - val_loss: 0.4763 - val_accuracy: 0.8182\n"
     ]
    },
    {
     "name": "stdout",
     "output_type": "stream",
     "text": [
      "Epoch 59/100\n",
      "98/98 [==============================] - 1s 5ms/step - loss: 0.4950 - accuracy: 0.7959 - val_loss: 0.5047 - val_accuracy: 0.8081\n",
      "Epoch 60/100\n",
      "98/98 [==============================] - 0s 4ms/step - loss: 0.4967 - accuracy: 0.8087 - val_loss: 0.4724 - val_accuracy: 0.8182\n",
      "Epoch 61/100\n",
      "98/98 [==============================] - 0s 3ms/step - loss: 0.4848 - accuracy: 0.8138 - val_loss: 0.5203 - val_accuracy: 0.7980\n",
      "Epoch 62/100\n",
      "98/98 [==============================] - 0s 3ms/step - loss: 0.4758 - accuracy: 0.8087 - val_loss: 0.5054 - val_accuracy: 0.8081\n",
      "Epoch 63/100\n",
      "98/98 [==============================] - 0s 3ms/step - loss: 0.4830 - accuracy: 0.7985 - val_loss: 0.5017 - val_accuracy: 0.7980\n",
      "Epoch 64/100\n",
      "98/98 [==============================] - 0s 3ms/step - loss: 0.4836 - accuracy: 0.8061 - val_loss: 0.5470 - val_accuracy: 0.7980\n",
      "Epoch 65/100\n",
      "98/98 [==============================] - 0s 3ms/step - loss: 0.4864 - accuracy: 0.7985 - val_loss: 0.5174 - val_accuracy: 0.7980\n",
      "Epoch 66/100\n",
      "98/98 [==============================] - 0s 4ms/step - loss: 0.4941 - accuracy: 0.8112 - val_loss: 0.5039 - val_accuracy: 0.8081\n",
      "Epoch 67/100\n",
      "98/98 [==============================] - 1s 6ms/step - loss: 0.4890 - accuracy: 0.8036 - val_loss: 0.5230 - val_accuracy: 0.8081\n",
      "Epoch 68/100\n",
      "98/98 [==============================] - 0s 4ms/step - loss: 0.4780 - accuracy: 0.8163 - val_loss: 0.5904 - val_accuracy: 0.8081\n",
      "Epoch 69/100\n",
      "98/98 [==============================] - 0s 4ms/step - loss: 0.5038 - accuracy: 0.8087 - val_loss: 0.5273 - val_accuracy: 0.7980\n",
      "Epoch 70/100\n",
      "98/98 [==============================] - 0s 3ms/step - loss: 0.4790 - accuracy: 0.8036 - val_loss: 0.5121 - val_accuracy: 0.8081\n",
      "Epoch 71/100\n",
      "98/98 [==============================] - 0s 4ms/step - loss: 0.4867 - accuracy: 0.7985 - val_loss: 0.5016 - val_accuracy: 0.8081\n",
      "Epoch 72/100\n",
      "98/98 [==============================] - 0s 4ms/step - loss: 0.4867 - accuracy: 0.8036 - val_loss: 0.5674 - val_accuracy: 0.8081\n",
      "Epoch 73/100\n",
      "98/98 [==============================] - 0s 5ms/step - loss: 0.4910 - accuracy: 0.8010 - val_loss: 0.5458 - val_accuracy: 0.8081\n",
      "Epoch 74/100\n",
      "98/98 [==============================] - 0s 5ms/step - loss: 0.4933 - accuracy: 0.8087 - val_loss: 0.5184 - val_accuracy: 0.8081\n",
      "Epoch 75/100\n",
      "98/98 [==============================] - 0s 3ms/step - loss: 0.4814 - accuracy: 0.7985 - val_loss: 0.5261 - val_accuracy: 0.7980\n",
      "Epoch 76/100\n",
      "98/98 [==============================] - 0s 4ms/step - loss: 0.4904 - accuracy: 0.8087 - val_loss: 0.5080 - val_accuracy: 0.7980\n",
      "Epoch 77/100\n",
      "98/98 [==============================] - 0s 4ms/step - loss: 0.4889 - accuracy: 0.8112 - val_loss: 0.5422 - val_accuracy: 0.7980\n",
      "Epoch 78/100\n",
      "98/98 [==============================] - 0s 4ms/step - loss: 0.4919 - accuracy: 0.8061 - val_loss: 0.5194 - val_accuracy: 0.7980\n",
      "Epoch 79/100\n",
      "98/98 [==============================] - 0s 5ms/step - loss: 0.4857 - accuracy: 0.8036 - val_loss: 0.5089 - val_accuracy: 0.7980\n",
      "Epoch 80/100\n",
      "98/98 [==============================] - 0s 5ms/step - loss: 0.4898 - accuracy: 0.8138 - val_loss: 0.5605 - val_accuracy: 0.8081\n",
      "Epoch 81/100\n",
      "98/98 [==============================] - 1s 6ms/step - loss: 0.4927 - accuracy: 0.8036 - val_loss: 0.5108 - val_accuracy: 0.8081\n",
      "Epoch 82/100\n",
      "98/98 [==============================] - 0s 5ms/step - loss: 0.4779 - accuracy: 0.8061 - val_loss: 0.4905 - val_accuracy: 0.8182\n",
      "Epoch 83/100\n",
      "98/98 [==============================] - 0s 5ms/step - loss: 0.4913 - accuracy: 0.8163 - val_loss: 0.5064 - val_accuracy: 0.8081\n",
      "Epoch 84/100\n",
      "98/98 [==============================] - 0s 3ms/step - loss: 0.4901 - accuracy: 0.7985 - val_loss: 0.5055 - val_accuracy: 0.7980\n",
      "Epoch 85/100\n",
      "98/98 [==============================] - 0s 4ms/step - loss: 0.4750 - accuracy: 0.8138 - val_loss: 0.5468 - val_accuracy: 0.8081\n",
      "Epoch 86/100\n",
      "98/98 [==============================] - 0s 4ms/step - loss: 0.4928 - accuracy: 0.7959 - val_loss: 0.5138 - val_accuracy: 0.8081\n",
      "Epoch 87/100\n",
      "98/98 [==============================] - 0s 4ms/step - loss: 0.4905 - accuracy: 0.8087 - val_loss: 0.5257 - val_accuracy: 0.8081\n",
      "Epoch 88/100\n",
      "98/98 [==============================] - 0s 5ms/step - loss: 0.4993 - accuracy: 0.8112 - val_loss: 0.5219 - val_accuracy: 0.8081\n",
      "Epoch 89/100\n",
      "98/98 [==============================] - 0s 4ms/step - loss: 0.4772 - accuracy: 0.8010 - val_loss: 0.5830 - val_accuracy: 0.7778\n",
      "Epoch 90/100\n",
      "98/98 [==============================] - 0s 3ms/step - loss: 0.4772 - accuracy: 0.8010 - val_loss: 0.5165 - val_accuracy: 0.7980\n",
      "Epoch 91/100\n",
      "98/98 [==============================] - 0s 5ms/step - loss: 0.4898 - accuracy: 0.7985 - val_loss: 0.4970 - val_accuracy: 0.8182\n",
      "Epoch 92/100\n",
      "98/98 [==============================] - 0s 4ms/step - loss: 0.4906 - accuracy: 0.8061 - val_loss: 0.6288 - val_accuracy: 0.7879\n",
      "Epoch 93/100\n",
      "98/98 [==============================] - 0s 4ms/step - loss: 0.4923 - accuracy: 0.8061 - val_loss: 0.5080 - val_accuracy: 0.8081\n",
      "Epoch 94/100\n",
      "98/98 [==============================] - 0s 4ms/step - loss: 0.4847 - accuracy: 0.7959 - val_loss: 0.5742 - val_accuracy: 0.7778\n",
      "Epoch 95/100\n",
      "98/98 [==============================] - 1s 6ms/step - loss: 0.4994 - accuracy: 0.7985 - val_loss: 0.5198 - val_accuracy: 0.7980\n",
      "Epoch 96/100\n",
      "98/98 [==============================] - 0s 4ms/step - loss: 0.4937 - accuracy: 0.8010 - val_loss: 0.5078 - val_accuracy: 0.8081\n",
      "Epoch 97/100\n",
      "98/98 [==============================] - 0s 4ms/step - loss: 0.4880 - accuracy: 0.8036 - val_loss: 0.5437 - val_accuracy: 0.8081\n",
      "Epoch 98/100\n",
      "98/98 [==============================] - 0s 4ms/step - loss: 0.4759 - accuracy: 0.8214 - val_loss: 0.5349 - val_accuracy: 0.8081\n",
      "Epoch 99/100\n",
      "98/98 [==============================] - 0s 4ms/step - loss: 0.4977 - accuracy: 0.7985 - val_loss: 0.5117 - val_accuracy: 0.7980\n",
      "Epoch 100/100\n",
      "98/98 [==============================] - 0s 4ms/step - loss: 0.4916 - accuracy: 0.7934 - val_loss: 0.5218 - val_accuracy: 0.7980\n"
     ]
    },
    {
     "data": {
      "text/plain": [
       "<keras.callbacks.History at 0x1e88cfcbb50>"
      ]
     },
     "execution_count": 12,
     "metadata": {},
     "output_type": "execute_result"
    }
   ],
   "source": [
    "nn.compile(loss=\"binary_crossentropy\",metrics=[\"accuracy\"])\n",
    "nn.fit(xtrain,ytrain,validation_split=0.2,batch_size=4,epochs=100)"
   ]
  },
  {
   "cell_type": "code",
   "execution_count": null,
   "id": "1c8925b4",
   "metadata": {},
   "outputs": [],
   "source": []
  },
  {
   "cell_type": "markdown",
   "id": "5a64920e",
   "metadata": {},
   "source": [
    "# for a testing set"
   ]
  },
  {
   "cell_type": "code",
   "execution_count": 13,
   "id": "a48cb3d8",
   "metadata": {},
   "outputs": [],
   "source": [
    "B = pd.read_csv(\"C:/Users/Pawan/Downloads/testing_set.csv\")\n",
    "B = B.drop(labels=[\"Loan_ID\"],axis=1)"
   ]
  },
  {
   "cell_type": "code",
   "execution_count": 14,
   "id": "d820d39e",
   "metadata": {},
   "outputs": [],
   "source": [
    "replacer(B)"
   ]
  },
  {
   "cell_type": "code",
   "execution_count": 15,
   "id": "4caf999e",
   "metadata": {},
   "outputs": [],
   "source": [
    "from PM8_weekend import preprocessing\n",
    "test = preprocessing(B)"
   ]
  },
  {
   "cell_type": "code",
   "execution_count": 17,
   "id": "efd06cd4",
   "metadata": {},
   "outputs": [],
   "source": [
    "#test"
   ]
  },
  {
   "cell_type": "code",
   "execution_count": 19,
   "id": "4c5c692a",
   "metadata": {},
   "outputs": [
    {
     "data": {
      "text/plain": [
       "Index(['ApplicantIncome', 'CoapplicantIncome', 'LoanAmount',\n",
       "       'Loan_Amount_Term', 'Credit_History', 'Gender_Female', 'Gender_Male',\n",
       "       'Married_No', 'Married_Yes', 'Dependents_0', 'Dependents_1',\n",
       "       'Dependents_2', 'Dependents_3+', 'Education_Graduate',\n",
       "       'Education_Not Graduate', 'Self_Employed_No', 'Self_Employed_Yes',\n",
       "       'Property_Area_Rural', 'Property_Area_Semiurban',\n",
       "       'Property_Area_Urban'],\n",
       "      dtype='object')"
      ]
     },
     "execution_count": 19,
     "metadata": {},
     "output_type": "execute_result"
    }
   ],
   "source": [
    "test.columns"
   ]
  },
  {
   "cell_type": "code",
   "execution_count": 21,
   "id": "1e92cf07",
   "metadata": {},
   "outputs": [
    {
     "data": {
      "text/plain": [
       "Index(['ApplicantIncome', 'CoapplicantIncome', 'LoanAmount',\n",
       "       'Loan_Amount_Term', 'Credit_History', 'Gender_Female', 'Gender_Male',\n",
       "       'Married_No', 'Married_Yes', 'Dependents_0', 'Dependents_1',\n",
       "       'Dependents_2', 'Dependents_3+', 'Education_Graduate',\n",
       "       'Education_Not Graduate', 'Self_Employed_No', 'Self_Employed_Yes',\n",
       "       'Property_Area_Rural', 'Property_Area_Semiurban',\n",
       "       'Property_Area_Urban'],\n",
       "      dtype='object')"
      ]
     },
     "execution_count": 21,
     "metadata": {},
     "output_type": "execute_result"
    }
   ],
   "source": [
    "Xnew.columns"
   ]
  },
  {
   "cell_type": "code",
   "execution_count": 22,
   "id": "1cff4bc6",
   "metadata": {},
   "outputs": [
    {
     "data": {
      "text/plain": [
       "(367, 20)"
      ]
     },
     "execution_count": 22,
     "metadata": {},
     "output_type": "execute_result"
    }
   ],
   "source": [
    "test.shape"
   ]
  },
  {
   "cell_type": "code",
   "execution_count": 23,
   "id": "a6ffc195",
   "metadata": {},
   "outputs": [
    {
     "data": {
      "text/plain": [
       "(614, 20)"
      ]
     },
     "execution_count": 23,
     "metadata": {},
     "output_type": "execute_result"
    }
   ],
   "source": [
    "Xnew.shape\n"
   ]
  },
  {
   "cell_type": "code",
   "execution_count": 24,
   "id": "fa9f37cf",
   "metadata": {},
   "outputs": [],
   "source": [
    "Q = []\n",
    "for i in nn.predict(test):\n",
    "    if(i[0] < 0.5):\n",
    "        Q.append(0)\n",
    "    else:\n",
    "        Q.append(1)"
   ]
  },
  {
   "cell_type": "code",
   "execution_count": 25,
   "id": "48fea082",
   "metadata": {},
   "outputs": [],
   "source": [
    "pred = le.inverse_transform(Q)"
   ]
  },
  {
   "cell_type": "code",
   "execution_count": 26,
   "id": "374c9c72",
   "metadata": {},
   "outputs": [],
   "source": [
    "B = pd.read_csv(\"C:/Users/Pawan/Downloads/testing_set.csv\")"
   ]
  },
  {
   "cell_type": "code",
   "execution_count": 27,
   "id": "ae7bcee4",
   "metadata": {},
   "outputs": [],
   "source": [
    "C = B[[\"Loan_ID\"]]"
   ]
  },
  {
   "cell_type": "code",
   "execution_count": 28,
   "id": "ead5f5af",
   "metadata": {},
   "outputs": [],
   "source": [
    "C['Loan_Status_Predicted'] = pred\n"
   ]
  },
  {
   "cell_type": "code",
   "execution_count": 30,
   "id": "40fe44de",
   "metadata": {},
   "outputs": [
    {
     "data": {
      "text/html": [
       "<div>\n",
       "<style scoped>\n",
       "    .dataframe tbody tr th:only-of-type {\n",
       "        vertical-align: middle;\n",
       "    }\n",
       "\n",
       "    .dataframe tbody tr th {\n",
       "        vertical-align: top;\n",
       "    }\n",
       "\n",
       "    .dataframe thead th {\n",
       "        text-align: right;\n",
       "    }\n",
       "</style>\n",
       "<table border=\"1\" class=\"dataframe\">\n",
       "  <thead>\n",
       "    <tr style=\"text-align: right;\">\n",
       "      <th></th>\n",
       "      <th>Loan_ID</th>\n",
       "      <th>Loan_Status_Predicted</th>\n",
       "    </tr>\n",
       "  </thead>\n",
       "  <tbody>\n",
       "    <tr>\n",
       "      <th>0</th>\n",
       "      <td>LP001015</td>\n",
       "      <td>Y</td>\n",
       "    </tr>\n",
       "    <tr>\n",
       "      <th>1</th>\n",
       "      <td>LP001022</td>\n",
       "      <td>Y</td>\n",
       "    </tr>\n",
       "    <tr>\n",
       "      <th>2</th>\n",
       "      <td>LP001031</td>\n",
       "      <td>Y</td>\n",
       "    </tr>\n",
       "    <tr>\n",
       "      <th>3</th>\n",
       "      <td>LP001035</td>\n",
       "      <td>Y</td>\n",
       "    </tr>\n",
       "    <tr>\n",
       "      <th>4</th>\n",
       "      <td>LP001051</td>\n",
       "      <td>Y</td>\n",
       "    </tr>\n",
       "    <tr>\n",
       "      <th>...</th>\n",
       "      <td>...</td>\n",
       "      <td>...</td>\n",
       "    </tr>\n",
       "    <tr>\n",
       "      <th>362</th>\n",
       "      <td>LP002971</td>\n",
       "      <td>Y</td>\n",
       "    </tr>\n",
       "    <tr>\n",
       "      <th>363</th>\n",
       "      <td>LP002975</td>\n",
       "      <td>Y</td>\n",
       "    </tr>\n",
       "    <tr>\n",
       "      <th>364</th>\n",
       "      <td>LP002980</td>\n",
       "      <td>Y</td>\n",
       "    </tr>\n",
       "    <tr>\n",
       "      <th>365</th>\n",
       "      <td>LP002986</td>\n",
       "      <td>Y</td>\n",
       "    </tr>\n",
       "    <tr>\n",
       "      <th>366</th>\n",
       "      <td>LP002989</td>\n",
       "      <td>Y</td>\n",
       "    </tr>\n",
       "  </tbody>\n",
       "</table>\n",
       "<p>367 rows × 2 columns</p>\n",
       "</div>"
      ],
      "text/plain": [
       "      Loan_ID Loan_Status_Predicted\n",
       "0    LP001015                     Y\n",
       "1    LP001022                     Y\n",
       "2    LP001031                     Y\n",
       "3    LP001035                     Y\n",
       "4    LP001051                     Y\n",
       "..        ...                   ...\n",
       "362  LP002971                     Y\n",
       "363  LP002975                     Y\n",
       "364  LP002980                     Y\n",
       "365  LP002986                     Y\n",
       "366  LP002989                     Y\n",
       "\n",
       "[367 rows x 2 columns]"
      ]
     },
     "execution_count": 30,
     "metadata": {},
     "output_type": "execute_result"
    }
   ],
   "source": [
    "C"
   ]
  },
  {
   "cell_type": "code",
   "execution_count": null,
   "id": "4fb1b4e7",
   "metadata": {},
   "outputs": [],
   "source": []
  }
 ],
 "metadata": {
  "kernelspec": {
   "display_name": "Python 3 (ipykernel)",
   "language": "python",
   "name": "python3"
  },
  "language_info": {
   "codemirror_mode": {
    "name": "ipython",
    "version": 3
   },
   "file_extension": ".py",
   "mimetype": "text/x-python",
   "name": "python",
   "nbconvert_exporter": "python",
   "pygments_lexer": "ipython3",
   "version": "3.8.12"
  }
 },
 "nbformat": 4,
 "nbformat_minor": 5
}
