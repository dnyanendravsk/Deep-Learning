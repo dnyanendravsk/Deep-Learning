{
 "cells": [
  {
   "cell_type": "markdown",
   "id": "909cc24c",
   "metadata": {},
   "source": [
    "# Read dataset"
   ]
  },
  {
   "cell_type": "code",
   "execution_count": 1,
   "id": "333f8acb",
   "metadata": {},
   "outputs": [],
   "source": [
    "import pandas as pd\n",
    "from warnings import filterwarnings\n",
    "filterwarnings(\"ignore\")"
   ]
  },
  {
   "cell_type": "code",
   "execution_count": 2,
   "id": "a36cf2dd",
   "metadata": {},
   "outputs": [],
   "source": [
    "A = pd.read_csv(\"C:/Users/Pawan/Downloads/training_set _loan.csv\")"
   ]
  },
  {
   "cell_type": "code",
   "execution_count": 3,
   "id": "7924573d",
   "metadata": {},
   "outputs": [
    {
     "data": {
      "text/html": [
       "<div>\n",
       "<style scoped>\n",
       "    .dataframe tbody tr th:only-of-type {\n",
       "        vertical-align: middle;\n",
       "    }\n",
       "\n",
       "    .dataframe tbody tr th {\n",
       "        vertical-align: top;\n",
       "    }\n",
       "\n",
       "    .dataframe thead th {\n",
       "        text-align: right;\n",
       "    }\n",
       "</style>\n",
       "<table border=\"1\" class=\"dataframe\">\n",
       "  <thead>\n",
       "    <tr style=\"text-align: right;\">\n",
       "      <th></th>\n",
       "      <th>Loan_ID</th>\n",
       "      <th>Gender</th>\n",
       "      <th>Married</th>\n",
       "      <th>Dependents</th>\n",
       "      <th>Education</th>\n",
       "      <th>Self_Employed</th>\n",
       "      <th>ApplicantIncome</th>\n",
       "      <th>CoapplicantIncome</th>\n",
       "      <th>LoanAmount</th>\n",
       "      <th>Loan_Amount_Term</th>\n",
       "      <th>Credit_History</th>\n",
       "      <th>Property_Area</th>\n",
       "      <th>Loan_Status</th>\n",
       "    </tr>\n",
       "  </thead>\n",
       "  <tbody>\n",
       "    <tr>\n",
       "      <th>0</th>\n",
       "      <td>LP001002</td>\n",
       "      <td>Male</td>\n",
       "      <td>No</td>\n",
       "      <td>0</td>\n",
       "      <td>Graduate</td>\n",
       "      <td>No</td>\n",
       "      <td>5849.0</td>\n",
       "      <td>0.0</td>\n",
       "      <td>NaN</td>\n",
       "      <td>360.0</td>\n",
       "      <td>1.0</td>\n",
       "      <td>Urban</td>\n",
       "      <td>Y</td>\n",
       "    </tr>\n",
       "    <tr>\n",
       "      <th>1</th>\n",
       "      <td>LP001003</td>\n",
       "      <td>Male</td>\n",
       "      <td>Yes</td>\n",
       "      <td>1</td>\n",
       "      <td>Graduate</td>\n",
       "      <td>No</td>\n",
       "      <td>NaN</td>\n",
       "      <td>1508.0</td>\n",
       "      <td>128.0</td>\n",
       "      <td>360.0</td>\n",
       "      <td>1.0</td>\n",
       "      <td>Rural</td>\n",
       "      <td>N</td>\n",
       "    </tr>\n",
       "    <tr>\n",
       "      <th>2</th>\n",
       "      <td>LP001005</td>\n",
       "      <td>Male</td>\n",
       "      <td>Yes</td>\n",
       "      <td>0</td>\n",
       "      <td>Graduate</td>\n",
       "      <td>Yes</td>\n",
       "      <td>3000.0</td>\n",
       "      <td>0.0</td>\n",
       "      <td>66.0</td>\n",
       "      <td>360.0</td>\n",
       "      <td>1.0</td>\n",
       "      <td>Urban</td>\n",
       "      <td>Y</td>\n",
       "    </tr>\n",
       "    <tr>\n",
       "      <th>3</th>\n",
       "      <td>LP001006</td>\n",
       "      <td>Male</td>\n",
       "      <td>Yes</td>\n",
       "      <td>0</td>\n",
       "      <td>Not Graduate</td>\n",
       "      <td>No</td>\n",
       "      <td>2583.0</td>\n",
       "      <td>2358.0</td>\n",
       "      <td>120.0</td>\n",
       "      <td>360.0</td>\n",
       "      <td>1.0</td>\n",
       "      <td>Urban</td>\n",
       "      <td>Y</td>\n",
       "    </tr>\n",
       "    <tr>\n",
       "      <th>4</th>\n",
       "      <td>LP001008</td>\n",
       "      <td>Male</td>\n",
       "      <td>No</td>\n",
       "      <td>0</td>\n",
       "      <td>Graduate</td>\n",
       "      <td>No</td>\n",
       "      <td>6000.0</td>\n",
       "      <td>0.0</td>\n",
       "      <td>141.0</td>\n",
       "      <td>360.0</td>\n",
       "      <td>1.0</td>\n",
       "      <td>Urban</td>\n",
       "      <td>Y</td>\n",
       "    </tr>\n",
       "  </tbody>\n",
       "</table>\n",
       "</div>"
      ],
      "text/plain": [
       "    Loan_ID Gender Married Dependents     Education Self_Employed  \\\n",
       "0  LP001002   Male      No          0      Graduate            No   \n",
       "1  LP001003   Male     Yes          1      Graduate            No   \n",
       "2  LP001005   Male     Yes          0      Graduate           Yes   \n",
       "3  LP001006   Male     Yes          0  Not Graduate            No   \n",
       "4  LP001008   Male      No          0      Graduate            No   \n",
       "\n",
       "   ApplicantIncome  CoapplicantIncome  LoanAmount  Loan_Amount_Term  \\\n",
       "0           5849.0                0.0         NaN             360.0   \n",
       "1              NaN             1508.0       128.0             360.0   \n",
       "2           3000.0                0.0        66.0             360.0   \n",
       "3           2583.0             2358.0       120.0             360.0   \n",
       "4           6000.0                0.0       141.0             360.0   \n",
       "\n",
       "   Credit_History Property_Area Loan_Status  \n",
       "0             1.0         Urban           Y  \n",
       "1             1.0         Rural           N  \n",
       "2             1.0         Urban           Y  \n",
       "3             1.0         Urban           Y  \n",
       "4             1.0         Urban           Y  "
      ]
     },
     "execution_count": 3,
     "metadata": {},
     "output_type": "execute_result"
    }
   ],
   "source": [
    "A.head()\n"
   ]
  },
  {
   "cell_type": "markdown",
   "id": "113e6ff4",
   "metadata": {},
   "source": [
    "# Treat missing Data"
   ]
  },
  {
   "cell_type": "code",
   "execution_count": 4,
   "id": "fae06b3a",
   "metadata": {},
   "outputs": [],
   "source": [
    "from PM8_weekend import replacer\n",
    "replacer(A)"
   ]
  },
  {
   "cell_type": "markdown",
   "id": "668f3d83",
   "metadata": {},
   "source": [
    "# Define  X & Y"
   ]
  },
  {
   "cell_type": "code",
   "execution_count": 5,
   "id": "5e4744b7",
   "metadata": {},
   "outputs": [],
   "source": [
    "Y = A[[\"Loan_Status\"]]\n",
    "X = A.drop([\"Loan_Status\",\"Loan_ID\"],axis = 1)"
   ]
  },
  {
   "cell_type": "markdown",
   "id": "ea2582ee",
   "metadata": {},
   "source": [
    "# Preprocessing"
   ]
  },
  {
   "cell_type": "markdown",
   "id": "5645eafc",
   "metadata": {},
   "source": [
    "If categorical --> OHE --> 0/1"
   ]
  },
  {
   "cell_type": "code",
   "execution_count": 6,
   "id": "6f0c06d3",
   "metadata": {},
   "outputs": [],
   "source": [
    "cat = []\n",
    "con = []\n",
    "for i in X.columns:\n",
    "    if(X[i].dtypes==\"object\"):\n",
    "        cat.append(i)\n",
    "    else:\n",
    "        con.append(i)"
   ]
  },
  {
   "cell_type": "code",
   "execution_count": 7,
   "id": "0f7c7495",
   "metadata": {},
   "outputs": [],
   "source": [
    "from sklearn.preprocessing import MinMaxScaler\n",
    "mm = MinMaxScaler()\n",
    "X1 = pd.DataFrame(mm.fit_transform(X[con]),columns=con)\n",
    "X2 = pd.get_dummies(X[cat])\n",
    "Xnew = X1.join(X2)"
   ]
  },
  {
   "cell_type": "markdown",
   "id": "886145d4",
   "metadata": {},
   "source": [
    "# Y-Label Encoder conversion"
   ]
  },
  {
   "cell_type": "code",
   "execution_count": 8,
   "id": "6c12e8b0",
   "metadata": {},
   "outputs": [],
   "source": [
    "from sklearn.preprocessing import LabelEncoder\n",
    "le = LabelEncoder()\n",
    "Y.Loan_Status = le.fit_transform(Y)"
   ]
  },
  {
   "cell_type": "markdown",
   "id": "2280f9e9",
   "metadata": {},
   "source": [
    "# Divide the data in training and testing set"
   ]
  },
  {
   "cell_type": "code",
   "execution_count": 9,
   "id": "d1dfbcdf",
   "metadata": {},
   "outputs": [],
   "source": [
    "from sklearn.model_selection import train_test_split\n",
    "xtrain,xtest,ytrain,ytest=train_test_split(Xnew,Y,test_size=0.2,random_state=21)"
   ]
  },
  {
   "cell_type": "code",
   "execution_count": 35,
   "id": "b6adca31",
   "metadata": {},
   "outputs": [
    {
     "data": {
      "text/plain": [
       "20"
      ]
     },
     "execution_count": 35,
     "metadata": {},
     "output_type": "execute_result"
    }
   ],
   "source": [
    "Xnew.shape[1]"
   ]
  },
  {
   "cell_type": "markdown",
   "id": "3bf47c8a",
   "metadata": {},
   "source": [
    "# Create a NN"
   ]
  },
  {
   "cell_type": "code",
   "execution_count": 11,
   "id": "ea1fbdbd",
   "metadata": {},
   "outputs": [],
   "source": [
    "from keras.models import Sequential\n",
    "from keras.layers import Dense,Dropout"
   ]
  },
  {
   "cell_type": "code",
   "execution_count": 12,
   "id": "461062ac",
   "metadata": {},
   "outputs": [],
   "source": [
    "nn = Sequential()\n",
    "nn.add(Dense(200,input_dim=(Xnew.shape[1])))\n",
    "nn.add(Dropout(0.1))\n",
    "\n",
    "nn.add(Dense(40))\n",
    "nn.add(Dropout(0.1))\n",
    "\n",
    "nn.add(Dense(20))\n",
    "nn.add(Dropout(0.1))\n",
    "\n",
    "nn.add(Dense(1,activation=\"sigmoid\"))\n"
   ]
  },
  {
   "cell_type": "code",
   "execution_count": 13,
   "id": "9b9f1199",
   "metadata": {},
   "outputs": [
    {
     "name": "stdout",
     "output_type": "stream",
     "text": [
      "Epoch 1/30\n",
      "5/5 [==============================] - 5s 62ms/step - loss: 0.6570 - accuracy: 0.6477\n",
      "Epoch 2/30\n",
      "5/5 [==============================] - 0s 9ms/step - loss: 0.5623 - accuracy: 0.7189\n",
      "Epoch 3/30\n",
      "5/5 [==============================] - 0s 4ms/step - loss: 0.5440 - accuracy: 0.7515\n",
      "Epoch 4/30\n",
      "5/5 [==============================] - 0s 4ms/step - loss: 0.5156 - accuracy: 0.7760\n",
      "Epoch 5/30\n",
      "5/5 [==============================] - 0s 4ms/step - loss: 0.5095 - accuracy: 0.7923\n",
      "Epoch 6/30\n",
      "5/5 [==============================] - 0s 4ms/step - loss: 0.4950 - accuracy: 0.8024\n",
      "Epoch 7/30\n",
      "5/5 [==============================] - 0s 4ms/step - loss: 0.4850 - accuracy: 0.8086\n",
      "Epoch 8/30\n",
      "5/5 [==============================] - 0s 4ms/step - loss: 0.4825 - accuracy: 0.8004\n",
      "Epoch 9/30\n",
      "5/5 [==============================] - 0s 4ms/step - loss: 0.4776 - accuracy: 0.8065\n",
      "Epoch 10/30\n",
      "5/5 [==============================] - 0s 4ms/step - loss: 0.4814 - accuracy: 0.8024\n",
      "Epoch 11/30\n",
      "5/5 [==============================] - 0s 4ms/step - loss: 0.4832 - accuracy: 0.8024\n",
      "Epoch 12/30\n",
      "5/5 [==============================] - 0s 4ms/step - loss: 0.4666 - accuracy: 0.8147\n",
      "Epoch 13/30\n",
      "5/5 [==============================] - 0s 0s/step - loss: 0.4776 - accuracy: 0.7984\n",
      "Epoch 14/30\n",
      "5/5 [==============================] - 0s 0s/step - loss: 0.4733 - accuracy: 0.8065\n",
      "Epoch 15/30\n",
      "5/5 [==============================] - 0s 0s/step - loss: 0.4730 - accuracy: 0.8106\n",
      "Epoch 16/30\n",
      "5/5 [==============================] - 0s 0s/step - loss: 0.4952 - accuracy: 0.7862\n",
      "Epoch 17/30\n",
      "5/5 [==============================] - 0s 4ms/step - loss: 0.4633 - accuracy: 0.8167\n",
      "Epoch 18/30\n",
      "5/5 [==============================] - 0s 4ms/step - loss: 0.4777 - accuracy: 0.8004\n",
      "Epoch 19/30\n",
      "5/5 [==============================] - 0s 2ms/step - loss: 0.4601 - accuracy: 0.8086\n",
      "Epoch 20/30\n",
      "5/5 [==============================] - 0s 4ms/step - loss: 0.4682 - accuracy: 0.7963\n",
      "Epoch 21/30\n",
      "5/5 [==============================] - 0s 4ms/step - loss: 0.4742 - accuracy: 0.7963\n",
      "Epoch 22/30\n",
      "5/5 [==============================] - 0s 4ms/step - loss: 0.4641 - accuracy: 0.8106\n",
      "Epoch 23/30\n",
      "5/5 [==============================] - 0s 0s/step - loss: 0.4734 - accuracy: 0.8045\n",
      "Epoch 24/30\n",
      "5/5 [==============================] - 0s 0s/step - loss: 0.4708 - accuracy: 0.8065\n",
      "Epoch 25/30\n",
      "5/5 [==============================] - 0s 2ms/step - loss: 0.4696 - accuracy: 0.8065\n",
      "Epoch 26/30\n",
      "5/5 [==============================] - 0s 4ms/step - loss: 0.4712 - accuracy: 0.8086\n",
      "Epoch 27/30\n",
      "5/5 [==============================] - 0s 4ms/step - loss: 0.4686 - accuracy: 0.8065\n",
      "Epoch 28/30\n",
      "5/5 [==============================] - 0s 4ms/step - loss: 0.4703 - accuracy: 0.8045\n",
      "Epoch 29/30\n",
      "5/5 [==============================] - 0s 8ms/step - loss: 0.4548 - accuracy: 0.8126\n",
      "Epoch 30/30\n",
      "5/5 [==============================] - 0s 8ms/step - loss: 0.4619 - accuracy: 0.8065\n"
     ]
    }
   ],
   "source": [
    "nn.compile(loss=\"binary_crossentropy\",metrics=\"accuracy\")\n",
    "model = nn.fit(xtrain,ytrain,epochs=30,batch_size=100)"
   ]
  },
  {
   "cell_type": "markdown",
   "id": "cae7d74b",
   "metadata": {},
   "source": [
    "# Keras Tuner:\n"
   ]
  },
  {
   "cell_type": "markdown",
   "id": "13a02152",
   "metadata": {},
   "source": [
    "1. Create a model builder function that returns a created NN\n",
    "2. Create a Hyperband object(metrics for tuning)\n",
    "3. Search function(To start tuning based on given parameters)"
   ]
  },
  {
   "cell_type": "code",
   "execution_count": 14,
   "id": "8a54392a",
   "metadata": {},
   "outputs": [],
   "source": [
    "import keras_tuner as kt"
   ]
  },
  {
   "cell_type": "code",
   "execution_count": 15,
   "id": "21a8ab43",
   "metadata": {},
   "outputs": [],
   "source": [
    "def model_builder(hp):\n",
    "    nn = Sequential()\n",
    "    nn.add(Dense(200,input_dim=(Xnew.shape[1])))\n",
    "    nn.add(Dropout(0.1))\n",
    "    y = hp.Choice(\"units\",values=[64,128,256,512])\n",
    "    nn.add(Dense(units=y))\n",
    "    x = hp.Choice(\"rate\",values=[0.1,0.2,0.3,0.4,0.5,0.6,0.7,0.8,0.9])\n",
    "    nn.add(Dropout(rate=x))\n",
    "    nn.add(Dense(20))\n",
    "    nn.add(Dense(1,activation=\"sigmoid\"))\n",
    "    nn.compile(loss=\"binary_crossentropy\",metrics=\"accuracy\")\n",
    "    return nn\n"
   ]
  },
  {
   "cell_type": "code",
   "execution_count": 16,
   "id": "462ef723",
   "metadata": {},
   "outputs": [
    {
     "name": "stdout",
     "output_type": "stream",
     "text": [
      "INFO:tensorflow:Reloading Oracle from existing project C:/users/Pawan/Downloads/NN\\Tuner\\oracle.json\n",
      "INFO:tensorflow:Reloading Tuner from C:/users/Pawan/Downloads/NN\\Tuner\\tuner0.json\n"
     ]
    }
   ],
   "source": [
    "tuner = kt.Hyperband(model_builder,\n",
    "             objective=\"val_accuracy\",\n",
    "             max_epochs=10,\n",
    "             directory=\"C:/users/Pawan/Downloads/NN\",\n",
    "             project_name=\"Tuner\")"
   ]
  },
  {
   "cell_type": "code",
   "execution_count": 17,
   "id": "3dbea7cc",
   "metadata": {},
   "outputs": [
    {
     "name": "stdout",
     "output_type": "stream",
     "text": [
      "INFO:tensorflow:Oracle triggered exit\n"
     ]
    }
   ],
   "source": [
    "tuner.search(xtrain,ytrain,epochs=30,validation_split=0.2)"
   ]
  },
  {
   "cell_type": "code",
   "execution_count": 18,
   "id": "6bcbd1cb",
   "metadata": {},
   "outputs": [],
   "source": [
    "best = tuner.get_best_hyperparameters(num_trials=7)[0]"
   ]
  },
  {
   "cell_type": "code",
   "execution_count": 19,
   "id": "b2cbdb42",
   "metadata": {},
   "outputs": [
    {
     "data": {
      "text/plain": [
       "0.4"
      ]
     },
     "execution_count": 19,
     "metadata": {},
     "output_type": "execute_result"
    }
   ],
   "source": [
    "best.get(\"rate\")  # Hyperparameter for DropOut"
   ]
  },
  {
   "cell_type": "code",
   "execution_count": 20,
   "id": "a44178a6",
   "metadata": {},
   "outputs": [
    {
     "data": {
      "text/plain": [
       "512"
      ]
     },
     "execution_count": 20,
     "metadata": {},
     "output_type": "execute_result"
    }
   ],
   "source": [
    "best.get(\"units\") # Hyperparameter for Hidden layer size"
   ]
  },
  {
   "cell_type": "markdown",
   "id": "d08989c6",
   "metadata": {},
   "source": [
    "# Create Predictions on Testing Data"
   ]
  },
  {
   "cell_type": "code",
   "execution_count": 21,
   "id": "22de0fcf",
   "metadata": {},
   "outputs": [],
   "source": [
    "B = pd.read_csv(\"C:/Users/Pawan/Downloads/testing_set _loan.csv\")"
   ]
  },
  {
   "cell_type": "code",
   "execution_count": 22,
   "id": "354236b2",
   "metadata": {},
   "outputs": [
    {
     "data": {
      "text/html": [
       "<div>\n",
       "<style scoped>\n",
       "    .dataframe tbody tr th:only-of-type {\n",
       "        vertical-align: middle;\n",
       "    }\n",
       "\n",
       "    .dataframe tbody tr th {\n",
       "        vertical-align: top;\n",
       "    }\n",
       "\n",
       "    .dataframe thead th {\n",
       "        text-align: right;\n",
       "    }\n",
       "</style>\n",
       "<table border=\"1\" class=\"dataframe\">\n",
       "  <thead>\n",
       "    <tr style=\"text-align: right;\">\n",
       "      <th></th>\n",
       "      <th>Loan_ID</th>\n",
       "      <th>Gender</th>\n",
       "      <th>Married</th>\n",
       "      <th>Dependents</th>\n",
       "      <th>Education</th>\n",
       "      <th>Self_Employed</th>\n",
       "      <th>ApplicantIncome</th>\n",
       "      <th>CoapplicantIncome</th>\n",
       "      <th>LoanAmount</th>\n",
       "      <th>Loan_Amount_Term</th>\n",
       "      <th>Credit_History</th>\n",
       "      <th>Property_Area</th>\n",
       "    </tr>\n",
       "  </thead>\n",
       "  <tbody>\n",
       "    <tr>\n",
       "      <th>0</th>\n",
       "      <td>LP001015</td>\n",
       "      <td>Male</td>\n",
       "      <td>Yes</td>\n",
       "      <td>0</td>\n",
       "      <td>Graduate</td>\n",
       "      <td>No</td>\n",
       "      <td>5720</td>\n",
       "      <td>0</td>\n",
       "      <td>110.0</td>\n",
       "      <td>360.0</td>\n",
       "      <td>1.0</td>\n",
       "      <td>Urban</td>\n",
       "    </tr>\n",
       "    <tr>\n",
       "      <th>1</th>\n",
       "      <td>LP001022</td>\n",
       "      <td>Male</td>\n",
       "      <td>Yes</td>\n",
       "      <td>1</td>\n",
       "      <td>Graduate</td>\n",
       "      <td>No</td>\n",
       "      <td>3076</td>\n",
       "      <td>1500</td>\n",
       "      <td>126.0</td>\n",
       "      <td>360.0</td>\n",
       "      <td>1.0</td>\n",
       "      <td>Urban</td>\n",
       "    </tr>\n",
       "    <tr>\n",
       "      <th>2</th>\n",
       "      <td>LP001031</td>\n",
       "      <td>Male</td>\n",
       "      <td>Yes</td>\n",
       "      <td>2</td>\n",
       "      <td>Graduate</td>\n",
       "      <td>No</td>\n",
       "      <td>5000</td>\n",
       "      <td>1800</td>\n",
       "      <td>208.0</td>\n",
       "      <td>360.0</td>\n",
       "      <td>1.0</td>\n",
       "      <td>Urban</td>\n",
       "    </tr>\n",
       "    <tr>\n",
       "      <th>3</th>\n",
       "      <td>LP001035</td>\n",
       "      <td>Male</td>\n",
       "      <td>Yes</td>\n",
       "      <td>2</td>\n",
       "      <td>Graduate</td>\n",
       "      <td>No</td>\n",
       "      <td>2340</td>\n",
       "      <td>2546</td>\n",
       "      <td>100.0</td>\n",
       "      <td>360.0</td>\n",
       "      <td>NaN</td>\n",
       "      <td>Urban</td>\n",
       "    </tr>\n",
       "    <tr>\n",
       "      <th>4</th>\n",
       "      <td>LP001051</td>\n",
       "      <td>Male</td>\n",
       "      <td>No</td>\n",
       "      <td>0</td>\n",
       "      <td>Not Graduate</td>\n",
       "      <td>No</td>\n",
       "      <td>3276</td>\n",
       "      <td>0</td>\n",
       "      <td>78.0</td>\n",
       "      <td>360.0</td>\n",
       "      <td>1.0</td>\n",
       "      <td>Urban</td>\n",
       "    </tr>\n",
       "  </tbody>\n",
       "</table>\n",
       "</div>"
      ],
      "text/plain": [
       "    Loan_ID Gender Married Dependents     Education Self_Employed  \\\n",
       "0  LP001015   Male     Yes          0      Graduate            No   \n",
       "1  LP001022   Male     Yes          1      Graduate            No   \n",
       "2  LP001031   Male     Yes          2      Graduate            No   \n",
       "3  LP001035   Male     Yes          2      Graduate            No   \n",
       "4  LP001051   Male      No          0  Not Graduate            No   \n",
       "\n",
       "   ApplicantIncome  CoapplicantIncome  LoanAmount  Loan_Amount_Term  \\\n",
       "0             5720                  0       110.0             360.0   \n",
       "1             3076               1500       126.0             360.0   \n",
       "2             5000               1800       208.0             360.0   \n",
       "3             2340               2546       100.0             360.0   \n",
       "4             3276                  0        78.0             360.0   \n",
       "\n",
       "   Credit_History Property_Area  \n",
       "0             1.0         Urban  \n",
       "1             1.0         Urban  \n",
       "2             1.0         Urban  \n",
       "3             NaN         Urban  \n",
       "4             1.0         Urban  "
      ]
     },
     "execution_count": 22,
     "metadata": {},
     "output_type": "execute_result"
    }
   ],
   "source": [
    "B.head()"
   ]
  },
  {
   "cell_type": "code",
   "execution_count": 23,
   "id": "254885ba",
   "metadata": {},
   "outputs": [],
   "source": [
    "replacer(B)"
   ]
  },
  {
   "cell_type": "code",
   "execution_count": 24,
   "id": "1bfb4157",
   "metadata": {},
   "outputs": [],
   "source": [
    "X = B.drop([\"Loan_ID\"],axis=1)"
   ]
  },
  {
   "cell_type": "code",
   "execution_count": 25,
   "id": "4eeae4bd",
   "metadata": {},
   "outputs": [],
   "source": [
    "from sklearn.preprocessing import MinMaxScaler\n",
    "mm = MinMaxScaler()\n",
    "X1 = pd.DataFrame(mm.fit_transform(X[con]),columns=con)\n",
    "X2 = pd.get_dummies(X[cat])\n",
    "Xnew = X1.join(X2)"
   ]
  },
  {
   "cell_type": "code",
   "execution_count": 26,
   "id": "4dac1b92",
   "metadata": {},
   "outputs": [
    {
     "data": {
      "text/plain": [
       "20"
      ]
     },
     "execution_count": 26,
     "metadata": {},
     "output_type": "execute_result"
    }
   ],
   "source": [
    "len(Xnew.columns)"
   ]
  },
  {
   "cell_type": "code",
   "execution_count": 27,
   "id": "86a56da1",
   "metadata": {},
   "outputs": [],
   "source": [
    "nn = Sequential()\n",
    "nn.add(Dense(200,input_dim=(Xnew.shape[1])))\n",
    "nn.add(Dropout(0.1))\n",
    "\n",
    "nn.add(Dense(512))\n",
    "nn.add(Dropout(0.7))\n",
    "\n",
    "nn.add(Dense(20))\n",
    "nn.add(Dropout(0.1))\n",
    "\n",
    "nn.add(Dense(1,activation=\"sigmoid\"))"
   ]
  },
  {
   "cell_type": "code",
   "execution_count": 28,
   "id": "0dbc7caf",
   "metadata": {},
   "outputs": [
    {
     "name": "stdout",
     "output_type": "stream",
     "text": [
      "Epoch 1/30\n",
      "5/5 [==============================] - 1s 12ms/step - loss: 0.7439 - accuracy: 0.6436\n",
      "Epoch 2/30\n",
      "5/5 [==============================] - 0s 9ms/step - loss: 0.5499 - accuracy: 0.7658\n",
      "Epoch 3/30\n",
      "5/5 [==============================] - 0s 4ms/step - loss: 0.5261 - accuracy: 0.7719\n",
      "Epoch 4/30\n",
      "5/5 [==============================] - 0s 4ms/step - loss: 0.5184 - accuracy: 0.7637\n",
      "Epoch 5/30\n",
      "5/5 [==============================] - 0s 2ms/step - loss: 0.4950 - accuracy: 0.7963\n",
      "Epoch 6/30\n",
      "5/5 [==============================] - 0s 4ms/step - loss: 0.5068 - accuracy: 0.7780\n",
      "Epoch 7/30\n",
      "5/5 [==============================] - 0s 8ms/step - loss: 0.4910 - accuracy: 0.7882\n",
      "Epoch 8/30\n",
      "5/5 [==============================] - 0s 4ms/step - loss: 0.5058 - accuracy: 0.7678\n",
      "Epoch 9/30\n",
      "5/5 [==============================] - 0s 6ms/step - loss: 0.4769 - accuracy: 0.8187\n",
      "Epoch 10/30\n",
      "5/5 [==============================] - 0s 4ms/step - loss: 0.5174 - accuracy: 0.7943\n",
      "Epoch 11/30\n",
      "5/5 [==============================] - 0s 4ms/step - loss: 0.4875 - accuracy: 0.7902\n",
      "Epoch 12/30\n",
      "5/5 [==============================] - 0s 8ms/step - loss: 0.4661 - accuracy: 0.8045\n",
      "Epoch 13/30\n",
      "5/5 [==============================] - 0s 4ms/step - loss: 0.4847 - accuracy: 0.7862\n",
      "Epoch 14/30\n",
      "5/5 [==============================] - 0s 8ms/step - loss: 0.4934 - accuracy: 0.7943\n",
      "Epoch 15/30\n",
      "5/5 [==============================] - 0s 9ms/step - loss: 0.4904 - accuracy: 0.8024\n",
      "Epoch 16/30\n",
      "5/5 [==============================] - 0s 8ms/step - loss: 0.4852 - accuracy: 0.8065\n",
      "Epoch 17/30\n",
      "5/5 [==============================] - 0s 8ms/step - loss: 0.4983 - accuracy: 0.7821\n",
      "Epoch 18/30\n",
      "5/5 [==============================] - 0s 11ms/step - loss: 0.4748 - accuracy: 0.7902\n",
      "Epoch 19/30\n",
      "5/5 [==============================] - 0s 9ms/step - loss: 0.4666 - accuracy: 0.8004\n",
      "Epoch 20/30\n",
      "5/5 [==============================] - 0s 8ms/step - loss: 0.4779 - accuracy: 0.8106\n",
      "Epoch 21/30\n",
      "5/5 [==============================] - 0s 9ms/step - loss: 0.4808 - accuracy: 0.7923\n",
      "Epoch 22/30\n",
      "5/5 [==============================] - 0s 8ms/step - loss: 0.4861 - accuracy: 0.7862\n",
      "Epoch 23/30\n",
      "5/5 [==============================] - 0s 9ms/step - loss: 0.4889 - accuracy: 0.8004\n",
      "Epoch 24/30\n",
      "5/5 [==============================] - 0s 9ms/step - loss: 0.4767 - accuracy: 0.8065\n",
      "Epoch 25/30\n",
      "5/5 [==============================] - 0s 9ms/step - loss: 0.4956 - accuracy: 0.7862\n",
      "Epoch 26/30\n",
      "5/5 [==============================] - 0s 7ms/step - loss: 0.4766 - accuracy: 0.8024\n",
      "Epoch 27/30\n",
      "5/5 [==============================] - 0s 10ms/step - loss: 0.4890 - accuracy: 0.7902\n",
      "Epoch 28/30\n",
      "5/5 [==============================] - 0s 8ms/step - loss: 0.4672 - accuracy: 0.7963\n",
      "Epoch 29/30\n",
      "5/5 [==============================] - 0s 9ms/step - loss: 0.4766 - accuracy: 0.8045\n",
      "Epoch 30/30\n",
      "5/5 [==============================] - 0s 9ms/step - loss: 0.4706 - accuracy: 0.8024\n"
     ]
    }
   ],
   "source": [
    "nn.compile(loss=\"binary_crossentropy\",metrics=\"accuracy\")\n",
    "model = nn.fit(xtrain,ytrain,epochs=30,batch_size=100)"
   ]
  },
  {
   "cell_type": "code",
   "execution_count": 29,
   "id": "b4a5dabe",
   "metadata": {},
   "outputs": [],
   "source": [
    "Q = []\n",
    "for i in nn.predict(Xnew):\n",
    "    if(i[0] < 0.5):\n",
    "        Q.append(0)\n",
    "    else:\n",
    "        Q.append(1)\n"
   ]
  },
  {
   "cell_type": "code",
   "execution_count": 30,
   "id": "a4072a68",
   "metadata": {},
   "outputs": [],
   "source": [
    "Q = le.inverse_transform(Q)"
   ]
  },
  {
   "cell_type": "code",
   "execution_count": 31,
   "id": "46c6afc6",
   "metadata": {},
   "outputs": [],
   "source": [
    "W = B[[\"Loan_ID\"]]\n",
    "W['Loan_Status']=Q"
   ]
  },
  {
   "cell_type": "code",
   "execution_count": 32,
   "id": "8de3aa17",
   "metadata": {},
   "outputs": [
    {
     "data": {
      "text/plain": [
       "(367, 12)"
      ]
     },
     "execution_count": 32,
     "metadata": {},
     "output_type": "execute_result"
    }
   ],
   "source": [
    "B.shape"
   ]
  },
  {
   "cell_type": "code",
   "execution_count": 33,
   "id": "e7e0d266",
   "metadata": {},
   "outputs": [
    {
     "data": {
      "text/plain": [
       "367"
      ]
     },
     "execution_count": 33,
     "metadata": {},
     "output_type": "execute_result"
    }
   ],
   "source": [
    "len(Q)"
   ]
  },
  {
   "cell_type": "code",
   "execution_count": 34,
   "id": "b1aef24d",
   "metadata": {},
   "outputs": [
    {
     "data": {
      "text/html": [
       "<div>\n",
       "<style scoped>\n",
       "    .dataframe tbody tr th:only-of-type {\n",
       "        vertical-align: middle;\n",
       "    }\n",
       "\n",
       "    .dataframe tbody tr th {\n",
       "        vertical-align: top;\n",
       "    }\n",
       "\n",
       "    .dataframe thead th {\n",
       "        text-align: right;\n",
       "    }\n",
       "</style>\n",
       "<table border=\"1\" class=\"dataframe\">\n",
       "  <thead>\n",
       "    <tr style=\"text-align: right;\">\n",
       "      <th></th>\n",
       "      <th>Loan_ID</th>\n",
       "      <th>Loan_Status</th>\n",
       "    </tr>\n",
       "  </thead>\n",
       "  <tbody>\n",
       "    <tr>\n",
       "      <th>0</th>\n",
       "      <td>LP001015</td>\n",
       "      <td>Y</td>\n",
       "    </tr>\n",
       "    <tr>\n",
       "      <th>1</th>\n",
       "      <td>LP001022</td>\n",
       "      <td>Y</td>\n",
       "    </tr>\n",
       "    <tr>\n",
       "      <th>2</th>\n",
       "      <td>LP001031</td>\n",
       "      <td>Y</td>\n",
       "    </tr>\n",
       "    <tr>\n",
       "      <th>3</th>\n",
       "      <td>LP001035</td>\n",
       "      <td>Y</td>\n",
       "    </tr>\n",
       "    <tr>\n",
       "      <th>4</th>\n",
       "      <td>LP001051</td>\n",
       "      <td>N</td>\n",
       "    </tr>\n",
       "    <tr>\n",
       "      <th>...</th>\n",
       "      <td>...</td>\n",
       "      <td>...</td>\n",
       "    </tr>\n",
       "    <tr>\n",
       "      <th>362</th>\n",
       "      <td>LP002971</td>\n",
       "      <td>Y</td>\n",
       "    </tr>\n",
       "    <tr>\n",
       "      <th>363</th>\n",
       "      <td>LP002975</td>\n",
       "      <td>Y</td>\n",
       "    </tr>\n",
       "    <tr>\n",
       "      <th>364</th>\n",
       "      <td>LP002980</td>\n",
       "      <td>Y</td>\n",
       "    </tr>\n",
       "    <tr>\n",
       "      <th>365</th>\n",
       "      <td>LP002986</td>\n",
       "      <td>Y</td>\n",
       "    </tr>\n",
       "    <tr>\n",
       "      <th>366</th>\n",
       "      <td>LP002989</td>\n",
       "      <td>Y</td>\n",
       "    </tr>\n",
       "  </tbody>\n",
       "</table>\n",
       "<p>367 rows × 2 columns</p>\n",
       "</div>"
      ],
      "text/plain": [
       "      Loan_ID Loan_Status\n",
       "0    LP001015           Y\n",
       "1    LP001022           Y\n",
       "2    LP001031           Y\n",
       "3    LP001035           Y\n",
       "4    LP001051           N\n",
       "..        ...         ...\n",
       "362  LP002971           Y\n",
       "363  LP002975           Y\n",
       "364  LP002980           Y\n",
       "365  LP002986           Y\n",
       "366  LP002989           Y\n",
       "\n",
       "[367 rows x 2 columns]"
      ]
     },
     "execution_count": 34,
     "metadata": {},
     "output_type": "execute_result"
    }
   ],
   "source": [
    "W"
   ]
  },
  {
   "cell_type": "code",
   "execution_count": null,
   "id": "65f7c0d8",
   "metadata": {},
   "outputs": [],
   "source": []
  }
 ],
 "metadata": {
  "kernelspec": {
   "display_name": "Python 3 (ipykernel)",
   "language": "python",
   "name": "python3"
  },
  "language_info": {
   "codemirror_mode": {
    "name": "ipython",
    "version": 3
   },
   "file_extension": ".py",
   "mimetype": "text/x-python",
   "name": "python",
   "nbconvert_exporter": "python",
   "pygments_lexer": "ipython3",
   "version": "3.8.12"
  }
 },
 "nbformat": 4,
 "nbformat_minor": 5
}
